{
 "cells": [
  {
   "cell_type": "code",
   "execution_count": 1,
   "id": "8affd181",
   "metadata": {},
   "outputs": [],
   "source": [
    "import numpy as np\n",
    "import pandas as pd\n",
    "import difflib\n",
    "from sklearn.feature_extraction.text import TfidfVectorizer\n",
    "from sklearn.metrics.pairwise import cosine_similarity\n",
    "import os"
   ]
  },
  {
   "cell_type": "code",
   "execution_count": 2,
   "id": "93991cea",
   "metadata": {},
   "outputs": [
    {
     "data": {
      "text/plain": [
       "'/Users/samruddhikale'"
      ]
     },
     "metadata": {},
     "output_type": "display_data"
    }
   ],
   "source": [
    "display (os.getcwd())"
   ]
  },
  {
   "cell_type": "code",
   "execution_count": 3,
   "id": "b183bbf0",
   "metadata": {},
   "outputs": [
    {
     "data": {
      "text/html": [
       "<div>\n",
       "<style scoped>\n",
       "    .dataframe tbody tr th:only-of-type {\n",
       "        vertical-align: middle;\n",
       "    }\n",
       "\n",
       "    .dataframe tbody tr th {\n",
       "        vertical-align: top;\n",
       "    }\n",
       "\n",
       "    .dataframe thead th {\n",
       "        text-align: right;\n",
       "    }\n",
       "</style>\n",
       "<table border=\"1\" class=\"dataframe\">\n",
       "  <thead>\n",
       "    <tr style=\"text-align: right;\">\n",
       "      <th></th>\n",
       "      <th>index</th>\n",
       "      <th>ID</th>\n",
       "      <th>name</th>\n",
       "      <th>cuisine</th>\n",
       "      <th>taste</th>\n",
       "      <th>dietary_restrictions</th>\n",
       "      <th>meat</th>\n",
       "      <th>KW</th>\n",
       "      <th>overview</th>\n",
       "    </tr>\n",
       "  </thead>\n",
       "  <tbody>\n",
       "    <tr>\n",
       "      <th>0</th>\n",
       "      <td>1</td>\n",
       "      <td>1001</td>\n",
       "      <td>Butter chicken</td>\n",
       "      <td>Indian</td>\n",
       "      <td>spicy</td>\n",
       "      <td>nonvegetarian</td>\n",
       "      <td>chicken</td>\n",
       "      <td>creamy curry chicken tomato-based yogurt cream</td>\n",
       "      <td>Rich, creamy, and slightly sweet, with a mild ...</td>\n",
       "    </tr>\n",
       "    <tr>\n",
       "      <th>1</th>\n",
       "      <td>2</td>\n",
       "      <td>1002</td>\n",
       "      <td>Biryani</td>\n",
       "      <td>Indian</td>\n",
       "      <td>spicy</td>\n",
       "      <td>nonvegetarian</td>\n",
       "      <td>chicken</td>\n",
       "      <td>rice _dish spices  chicken beef vegetables</td>\n",
       "      <td>This dish is a fragrant, flavorful rice dish m...</td>\n",
       "    </tr>\n",
       "    <tr>\n",
       "      <th>2</th>\n",
       "      <td>3</td>\n",
       "      <td>1003</td>\n",
       "      <td>Tandoori chicken</td>\n",
       "      <td>Indian</td>\n",
       "      <td>spicy</td>\n",
       "      <td>nonvegetarian</td>\n",
       "      <td>chicken</td>\n",
       "      <td>marinated _chicken  spices</td>\n",
       "      <td>This dish is marinated chicken cooked in a tan...</td>\n",
       "    </tr>\n",
       "    <tr>\n",
       "      <th>3</th>\n",
       "      <td>4</td>\n",
       "      <td>1004</td>\n",
       "      <td>Samosa</td>\n",
       "      <td>Indian</td>\n",
       "      <td>savory</td>\n",
       "      <td>vegetarian</td>\n",
       "      <td>no_meat</td>\n",
       "      <td>deep_fried  baked_pastry spiced_potatoes</td>\n",
       "      <td>This dish is a deep-fried or baked pastry fill...</td>\n",
       "    </tr>\n",
       "    <tr>\n",
       "      <th>4</th>\n",
       "      <td>5</td>\n",
       "      <td>1005</td>\n",
       "      <td>Chole Bhature</td>\n",
       "      <td>Indian</td>\n",
       "      <td>spicy</td>\n",
       "      <td>vegetarian</td>\n",
       "      <td>no_meat</td>\n",
       "      <td>spicy_chickpeas  deep_fried bread</td>\n",
       "      <td>This dish consists of spicy chickpeas served w...</td>\n",
       "    </tr>\n",
       "  </tbody>\n",
       "</table>\n",
       "</div>"
      ],
      "text/plain": [
       "   index    ID              name cuisine   taste dietary_restrictions  \\\n",
       "0      1  1001    Butter chicken  Indian   spicy        nonvegetarian   \n",
       "1      2  1002           Biryani  Indian   spicy        nonvegetarian   \n",
       "2      3  1003  Tandoori chicken  Indian   spicy        nonvegetarian   \n",
       "3      4  1004            Samosa  Indian  savory           vegetarian   \n",
       "4      5  1005     Chole Bhature  Indian   spicy           vegetarian   \n",
       "\n",
       "      meat                                              KW  \\\n",
       "0  chicken  creamy curry chicken tomato-based yogurt cream   \n",
       "1  chicken      rice _dish spices  chicken beef vegetables   \n",
       "2  chicken                      marinated _chicken  spices   \n",
       "3  no_meat        deep_fried  baked_pastry spiced_potatoes   \n",
       "4  no_meat               spicy_chickpeas  deep_fried bread   \n",
       "\n",
       "                                            overview  \n",
       "0  Rich, creamy, and slightly sweet, with a mild ...  \n",
       "1  This dish is a fragrant, flavorful rice dish m...  \n",
       "2  This dish is marinated chicken cooked in a tan...  \n",
       "3  This dish is a deep-fried or baked pastry fill...  \n",
       "4  This dish consists of spicy chickpeas served w...  "
      ]
     },
     "execution_count": 3,
     "metadata": {},
     "output_type": "execute_result"
    }
   ],
   "source": [
    "\n",
    "food_data =pd.read_csv('/Users/samruddhikale/Downloads/cravings org/food_org.csv')\n",
    "food_data.head()"
   ]
  },
  {
   "cell_type": "code",
   "execution_count": 4,
   "id": "b41e2003",
   "metadata": {},
   "outputs": [
    {
     "data": {
      "text/plain": [
       "(251, 9)"
      ]
     },
     "metadata": {},
     "output_type": "display_data"
    }
   ],
   "source": [
    "display (food_data.shape)"
   ]
  },
  {
   "cell_type": "code",
   "execution_count": 5,
   "id": "a572b005",
   "metadata": {},
   "outputs": [
    {
     "name": "stdout",
     "output_type": "stream",
     "text": [
      "['index', 'ID', 'name', 'cuisine', 'taste', 'dietary_restrictions', 'meat']\n"
     ]
    }
   ],
   "source": [
    "selected_features = ['index','ID','name','cuisine','taste','dietary_restrictions','meat']\n",
    "print(selected_features)"
   ]
  },
  {
   "cell_type": "code",
   "execution_count": 6,
   "id": "0e0b6576",
   "metadata": {},
   "outputs": [
    {
     "name": "stdout",
     "output_type": "stream",
     "text": [
      "<class 'pandas.core.frame.DataFrame'>\n",
      "RangeIndex: 251 entries, 0 to 250\n",
      "Data columns (total 9 columns):\n",
      " #   Column                Non-Null Count  Dtype \n",
      "---  ------                --------------  ----- \n",
      " 0   index                 251 non-null    int64 \n",
      " 1   ID                    251 non-null    int64 \n",
      " 2   name                  251 non-null    object\n",
      " 3   cuisine               251 non-null    object\n",
      " 4   taste                 251 non-null    object\n",
      " 5   dietary_restrictions  251 non-null    object\n",
      " 6   meat                  250 non-null    object\n",
      " 7   KW                    251 non-null    object\n",
      " 8   overview              251 non-null    object\n",
      "dtypes: int64(2), object(7)\n",
      "memory usage: 17.8+ KB\n"
     ]
    },
    {
     "data": {
      "text/plain": [
       "None"
      ]
     },
     "metadata": {},
     "output_type": "display_data"
    }
   ],
   "source": [
    "display (food_data.info())"
   ]
  },
  {
   "cell_type": "code",
   "execution_count": 7,
   "id": "663cce0b",
   "metadata": {},
   "outputs": [
    {
     "data": {
      "text/plain": [
       "index                   0\n",
       "ID                      0\n",
       "name                    0\n",
       "cuisine                 0\n",
       "taste                   0\n",
       "dietary_restrictions    0\n",
       "meat                    1\n",
       "KW                      0\n",
       "overview                0\n",
       "dtype: int64"
      ]
     },
     "metadata": {},
     "output_type": "display_data"
    }
   ],
   "source": [
    "display (food_data.isna().sum())"
   ]
  },
  {
   "cell_type": "code",
   "execution_count": 8,
   "id": "ab63f5fe",
   "metadata": {},
   "outputs": [
    {
     "data": {
      "text/html": [
       "<div>\n",
       "<style scoped>\n",
       "    .dataframe tbody tr th:only-of-type {\n",
       "        vertical-align: middle;\n",
       "    }\n",
       "\n",
       "    .dataframe tbody tr th {\n",
       "        vertical-align: top;\n",
       "    }\n",
       "\n",
       "    .dataframe thead th {\n",
       "        text-align: right;\n",
       "    }\n",
       "</style>\n",
       "<table border=\"1\" class=\"dataframe\">\n",
       "  <thead>\n",
       "    <tr style=\"text-align: right;\">\n",
       "      <th></th>\n",
       "      <th>index</th>\n",
       "      <th>ID</th>\n",
       "      <th>name</th>\n",
       "      <th>cuisine</th>\n",
       "      <th>taste</th>\n",
       "      <th>dietary_restrictions</th>\n",
       "      <th>meat</th>\n",
       "    </tr>\n",
       "  </thead>\n",
       "  <tbody>\n",
       "    <tr>\n",
       "      <th>0</th>\n",
       "      <td>1</td>\n",
       "      <td>1001</td>\n",
       "      <td>Butter chicken</td>\n",
       "      <td>Indian</td>\n",
       "      <td>spicy</td>\n",
       "      <td>nonvegetarian</td>\n",
       "      <td>chicken</td>\n",
       "    </tr>\n",
       "    <tr>\n",
       "      <th>1</th>\n",
       "      <td>2</td>\n",
       "      <td>1002</td>\n",
       "      <td>Biryani</td>\n",
       "      <td>Indian</td>\n",
       "      <td>spicy</td>\n",
       "      <td>nonvegetarian</td>\n",
       "      <td>chicken</td>\n",
       "    </tr>\n",
       "    <tr>\n",
       "      <th>2</th>\n",
       "      <td>3</td>\n",
       "      <td>1003</td>\n",
       "      <td>Tandoori chicken</td>\n",
       "      <td>Indian</td>\n",
       "      <td>spicy</td>\n",
       "      <td>nonvegetarian</td>\n",
       "      <td>chicken</td>\n",
       "    </tr>\n",
       "    <tr>\n",
       "      <th>3</th>\n",
       "      <td>4</td>\n",
       "      <td>1004</td>\n",
       "      <td>Samosa</td>\n",
       "      <td>Indian</td>\n",
       "      <td>savory</td>\n",
       "      <td>vegetarian</td>\n",
       "      <td>no_meat</td>\n",
       "    </tr>\n",
       "    <tr>\n",
       "      <th>4</th>\n",
       "      <td>5</td>\n",
       "      <td>1005</td>\n",
       "      <td>Chole Bhature</td>\n",
       "      <td>Indian</td>\n",
       "      <td>spicy</td>\n",
       "      <td>vegetarian</td>\n",
       "      <td>no_meat</td>\n",
       "    </tr>\n",
       "  </tbody>\n",
       "</table>\n",
       "</div>"
      ],
      "text/plain": [
       "   index    ID              name cuisine   taste dietary_restrictions     meat\n",
       "0      1  1001    Butter chicken  Indian   spicy        nonvegetarian  chicken\n",
       "1      2  1002           Biryani  Indian   spicy        nonvegetarian  chicken\n",
       "2      3  1003  Tandoori chicken  Indian   spicy        nonvegetarian  chicken\n",
       "3      4  1004            Samosa  Indian  savory           vegetarian  no_meat\n",
       "4      5  1005     Chole Bhature  Indian   spicy           vegetarian  no_meat"
      ]
     },
     "metadata": {},
     "output_type": "display_data"
    }
   ],
   "source": [
    "display (food_data[selected_features].head())"
   ]
  },
  {
   "cell_type": "code",
   "execution_count": 9,
   "id": "e103c937",
   "metadata": {},
   "outputs": [
    {
     "data": {
      "text/plain": [
       "index                   0\n",
       "ID                      0\n",
       "name                    0\n",
       "cuisine                 0\n",
       "taste                   0\n",
       "dietary_restrictions    0\n",
       "meat                    1\n",
       "dtype: int64"
      ]
     },
     "metadata": {},
     "output_type": "display_data"
    }
   ],
   "source": [
    "display (food_data[selected_features].isna().sum())"
   ]
  },
  {
   "cell_type": "code",
   "execution_count": 10,
   "id": "391ba2b8",
   "metadata": {},
   "outputs": [
    {
     "data": {
      "text/html": [
       "<div>\n",
       "<style scoped>\n",
       "    .dataframe tbody tr th:only-of-type {\n",
       "        vertical-align: middle;\n",
       "    }\n",
       "\n",
       "    .dataframe tbody tr th {\n",
       "        vertical-align: top;\n",
       "    }\n",
       "\n",
       "    .dataframe thead th {\n",
       "        text-align: right;\n",
       "    }\n",
       "</style>\n",
       "<table border=\"1\" class=\"dataframe\">\n",
       "  <thead>\n",
       "    <tr style=\"text-align: right;\">\n",
       "      <th></th>\n",
       "      <th>index</th>\n",
       "      <th>ID</th>\n",
       "      <th>name</th>\n",
       "      <th>cuisine</th>\n",
       "      <th>taste</th>\n",
       "      <th>dietary_restrictions</th>\n",
       "      <th>meat</th>\n",
       "      <th>KW</th>\n",
       "      <th>overview</th>\n",
       "    </tr>\n",
       "  </thead>\n",
       "  <tbody>\n",
       "    <tr>\n",
       "      <th>0</th>\n",
       "      <td>1</td>\n",
       "      <td>1001</td>\n",
       "      <td>Butter chicken</td>\n",
       "      <td>Indian</td>\n",
       "      <td>spicy</td>\n",
       "      <td>nonvegetarian</td>\n",
       "      <td>chicken</td>\n",
       "      <td>creamy curry chicken tomato-based yogurt cream</td>\n",
       "      <td>Rich, creamy, and slightly sweet, with a mild ...</td>\n",
       "    </tr>\n",
       "    <tr>\n",
       "      <th>1</th>\n",
       "      <td>2</td>\n",
       "      <td>1002</td>\n",
       "      <td>Biryani</td>\n",
       "      <td>Indian</td>\n",
       "      <td>spicy</td>\n",
       "      <td>nonvegetarian</td>\n",
       "      <td>chicken</td>\n",
       "      <td>rice _dish spices  chicken beef vegetables</td>\n",
       "      <td>This dish is a fragrant, flavorful rice dish m...</td>\n",
       "    </tr>\n",
       "    <tr>\n",
       "      <th>2</th>\n",
       "      <td>3</td>\n",
       "      <td>1003</td>\n",
       "      <td>Tandoori chicken</td>\n",
       "      <td>Indian</td>\n",
       "      <td>spicy</td>\n",
       "      <td>nonvegetarian</td>\n",
       "      <td>chicken</td>\n",
       "      <td>marinated _chicken  spices</td>\n",
       "      <td>This dish is marinated chicken cooked in a tan...</td>\n",
       "    </tr>\n",
       "    <tr>\n",
       "      <th>3</th>\n",
       "      <td>4</td>\n",
       "      <td>1004</td>\n",
       "      <td>Samosa</td>\n",
       "      <td>Indian</td>\n",
       "      <td>savory</td>\n",
       "      <td>vegetarian</td>\n",
       "      <td>no_meat</td>\n",
       "      <td>deep_fried  baked_pastry spiced_potatoes</td>\n",
       "      <td>This dish is a deep-fried or baked pastry fill...</td>\n",
       "    </tr>\n",
       "    <tr>\n",
       "      <th>4</th>\n",
       "      <td>5</td>\n",
       "      <td>1005</td>\n",
       "      <td>Chole Bhature</td>\n",
       "      <td>Indian</td>\n",
       "      <td>spicy</td>\n",
       "      <td>vegetarian</td>\n",
       "      <td>no_meat</td>\n",
       "      <td>spicy_chickpeas  deep_fried bread</td>\n",
       "      <td>This dish consists of spicy chickpeas served w...</td>\n",
       "    </tr>\n",
       "  </tbody>\n",
       "</table>\n",
       "</div>"
      ],
      "text/plain": [
       "   index    ID              name cuisine   taste dietary_restrictions  \\\n",
       "0      1  1001    Butter chicken  Indian   spicy        nonvegetarian   \n",
       "1      2  1002           Biryani  Indian   spicy        nonvegetarian   \n",
       "2      3  1003  Tandoori chicken  Indian   spicy        nonvegetarian   \n",
       "3      4  1004            Samosa  Indian  savory           vegetarian   \n",
       "4      5  1005     Chole Bhature  Indian   spicy           vegetarian   \n",
       "\n",
       "      meat                                              KW  \\\n",
       "0  chicken  creamy curry chicken tomato-based yogurt cream   \n",
       "1  chicken      rice _dish spices  chicken beef vegetables   \n",
       "2  chicken                      marinated _chicken  spices   \n",
       "3  no_meat        deep_fried  baked_pastry spiced_potatoes   \n",
       "4  no_meat               spicy_chickpeas  deep_fried bread   \n",
       "\n",
       "                                            overview  \n",
       "0  Rich, creamy, and slightly sweet, with a mild ...  \n",
       "1  This dish is a fragrant, flavorful rice dish m...  \n",
       "2  This dish is marinated chicken cooked in a tan...  \n",
       "3  This dish is a deep-fried or baked pastry fill...  \n",
       "4  This dish consists of spicy chickpeas served w...  "
      ]
     },
     "metadata": {},
     "output_type": "display_data"
    }
   ],
   "source": [
    "for feature in selected_features:\n",
    "  food_data[feature] = food_data[feature].fillna('')\n",
    "display (food_data.head())"
   ]
  },
  {
   "cell_type": "code",
   "execution_count": 11,
   "id": "fbf75459",
   "metadata": {},
   "outputs": [
    {
     "data": {
      "text/plain": [
       "0        Butter chicken Indian spicy\n",
       "1               Biryani Indian spicy\n",
       "2      Tandoori chicken Indian spicy\n",
       "3               Samosa Indian savory\n",
       "4         Chole Bhature Indian spicy\n",
       "                   ...              \n",
       "246               egg3 Indian savory\n",
       "247               egg4 Indian savory\n",
       "248               egg5 Indian savory\n",
       "249               egg6 Indian savory\n",
       "250               egg7 Indian savory\n",
       "Length: 251, dtype: object"
      ]
     },
     "metadata": {},
     "output_type": "display_data"
    }
   ],
   "source": [
    "combined_features =food_data['name']+' '+food_data['cuisine']+' '+food_data['taste']\n",
    "display (combined_features)"
   ]
  },
  {
   "cell_type": "code",
   "execution_count": 12,
   "id": "e9c0cf60",
   "metadata": {},
   "outputs": [
    {
     "data": {
      "text/plain": [
       "(251, 369)"
      ]
     },
     "metadata": {},
     "output_type": "display_data"
    },
    {
     "name": "stdout",
     "output_type": "stream",
     "text": [
      "  (0, 306)\t0.3025828468154473\n",
      "  (0, 151)\t0.3702046138001115\n",
      "  (0, 66)\t0.5234865245631428\n",
      "  (0, 52)\t0.7052333112771771\n",
      "  (1, 33)\t0.8277056425368862\n",
      "  (1, 306)\t0.3551300337620979\n",
      "  (1, 151)\t0.4344951420128097\n",
      "  (2, 323)\t0.7052333112771771\n",
      "  (2, 306)\t0.3025828468154473\n",
      "  (2, 151)\t0.3702046138001115\n",
      "  (2, 66)\t0.5234865245631428\n",
      "  (3, 289)\t0.29427832173266727\n",
      "  (3, 284)\t0.8462134478008462\n",
      "  (3, 151)\t0.4442106145953847\n",
      "  (4, 30)\t0.6376223193527168\n",
      "  (4, 72)\t0.6376223193527168\n",
      "  (4, 306)\t0.2735741115708371\n",
      "  (4, 151)\t0.3347129534463087\n",
      "  (5, 135)\t0.6376223193527168\n",
      "  (5, 6)\t0.6376223193527168\n",
      "  (5, 306)\t0.2735741115708371\n",
      "  (5, 151)\t0.3347129534463087\n",
      "  (6, 197)\t0.6557513444959633\n",
      "  (6, 92)\t0.6101942082871313\n",
      "  (6, 306)\t0.2813524339360952\n",
      "  :\t:\n",
      "  (243, 306)\t0.3116637397043416\n",
      "  (243, 151)\t0.38131492120938687\n",
      "  (244, 188)\t0.5877088493128337\n",
      "  (244, 124)\t0.517909491025135\n",
      "  (244, 102)\t0.4770794838524306\n",
      "  (244, 306)\t0.2521585606920025\n",
      "  (244, 151)\t0.30851141616203837\n",
      "  (245, 103)\t0.8462134478008462\n",
      "  (245, 289)\t0.29427832173266727\n",
      "  (245, 151)\t0.4442106145953847\n",
      "  (246, 104)\t0.8462134478008462\n",
      "  (246, 289)\t0.29427832173266727\n",
      "  (246, 151)\t0.4442106145953847\n",
      "  (247, 105)\t0.8462134478008462\n",
      "  (247, 289)\t0.29427832173266727\n",
      "  (247, 151)\t0.4442106145953847\n",
      "  (248, 106)\t0.8462134478008462\n",
      "  (248, 289)\t0.29427832173266727\n",
      "  (248, 151)\t0.4442106145953847\n",
      "  (249, 107)\t0.8462134478008462\n",
      "  (249, 289)\t0.29427832173266727\n",
      "  (249, 151)\t0.4442106145953847\n",
      "  (250, 108)\t0.8462134478008462\n",
      "  (250, 289)\t0.29427832173266727\n",
      "  (250, 151)\t0.4442106145953847\n"
     ]
    }
   ],
   "source": [
    "vectorizer = TfidfVectorizer()\n",
    "feature_vectors = vectorizer.fit_transform(combined_features)\n",
    "display (feature_vectors.shape)\n",
    "print (feature_vectors)"
   ]
  },
  {
   "cell_type": "code",
   "execution_count": 13,
   "id": "9cb2ed03",
   "metadata": {},
   "outputs": [
    {
     "name": "stdout",
     "output_type": "stream",
     "text": [
      "[[1.         0.26830836 0.50264598 ... 0.16444882 0.16444882 0.16444882]\n",
      " [0.26830836 1.         0.26830836 ... 0.19300735 0.19300735 0.19300735]\n",
      " [0.50264598 0.26830836 1.         ... 0.16444882 0.16444882 0.16444882]\n",
      " ...\n",
      " [0.16444882 0.19300735 0.16444882 ... 1.         0.2839228  0.2839228 ]\n",
      " [0.16444882 0.19300735 0.16444882 ... 0.2839228  1.         0.2839228 ]\n",
      " [0.16444882 0.19300735 0.16444882 ... 0.2839228  0.2839228  1.        ]]\n"
     ]
    }
   ],
   "source": [
    "similarity = cosine_similarity(feature_vectors)\n",
    "print  (similarity )"
   ]
  },
  {
   "cell_type": "code",
   "execution_count": 14,
   "id": "40276399",
   "metadata": {},
   "outputs": [
    {
     "data": {
      "text/plain": [
       "(251, 251)"
      ]
     },
     "metadata": {},
     "output_type": "display_data"
    }
   ],
   "source": [
    "display(similarity.shape)"
   ]
  },
  {
   "cell_type": "code",
   "execution_count": 15,
   "id": "6e7723a3",
   "metadata": {},
   "outputs": [
    {
     "name": "stdout",
     "output_type": "stream",
     "text": [
      " Enter your favourite food name : cannoli\n"
     ]
    }
   ],
   "source": [
    "food_name = input(' Enter your favourite food name : ')"
   ]
  },
  {
   "cell_type": "code",
   "execution_count": 16,
   "id": "38ca5659",
   "metadata": {},
   "outputs": [
    {
     "name": "stdout",
     "output_type": "stream",
     "text": [
      "['Butter chicken', 'Biryani', 'Tandoori chicken', 'Samosa', 'Chole Bhature', 'Aloo Gobhi', 'Dal Makhani', 'Paneer Tikka Masala', 'Masoor Dal', 'chicken Tikka Masala', 'Vada Pav', 'Idli Sambar', 'Kadhai Paneer', 'Naan', 'Gulab Jamun', 'Rasgulla', 'Kulfi', 'Jalebi', 'Laddu', 'Kheer', 'Kung Pao chicken', 'Hot and Sour Soup', 'Mapo Tofu', 'Chow Mein', 'Szechuan chicken', 'Sweet and Sour pork', 'beefwith Broccoli', 'Dumplings', 'Fried Rice', 'Won-ton Soup', 'Mongolian beef', 'Mu Shu pork', 'Shrimp with Lobster Sauce', 'Steamed Dumplings', 'Glutinous rice ball', 'Egg tart', 'Sweet soup or syrup', 'Sweet potato', 'Red date lotus seed sweet soup', 'Red bean paste bun', 'Margherita Pizza', 'Spaghetti Carbonara', 'Lasagna', 'Risotto', 'Fettuccine Alfredo', 'Osso Buco', 'Caprese Salad', 'Gnocchi', 'Pesto Pasta', 'Tiramisu', 'Minestrone Soup', 'Polenta', 'Veal Parmigiana', 'Calzone', 'Bolognese Sauce', 'Panna Cotta', 'Cannoli', 'Biscotti', 'Gelato', 'Zabaglione', 'Tacos', 'Burritos', 'Enchiladas', 'Tamales', 'Fajitas', 'Chiles Rellenos', 'Guacamole', 'Salsa', 'Quesadillas', 'Nachos', 'Pozole', 'Carne Asada', 'Churros', 'Flan', 'Huevos Rancheros', 'Pico de Gallo', 'Elote', 'Tres Leches Cake', 'Pastel de Tres Leches', 'Arroz con Leche', 'Hamburgers', 'Fried chicken', 'Hot Dogs', 'Mac and Cheese', 'Barbecue Ribs', 'Sandwiches', 'French Toast', 'Chili', 'Clam Chowder', 'Crab Cake', 'Baked Potatoes', 'Roast beef', 'Fried Fish', 'Jambalaya', 'Buffalo Wings', 'Apple Pie', 'Chocolate Chip Cookies', 'Brownies', 'Ice Cream Sundae', 'Cheesecake', 'Escargots', 'Coq au Vin', 'Quiche Lorraine', 'Bouillabaisse', 'Ratatouille', 'Croissants', 'Crème Brûlée', 'Tarte Tatin', 'Chocolate Mousse', 'Profiteroles', 'Cassoulet', 'Sole Meunière', 'Bouef Bourguignon', 'Blanquette de Veau', 'Crêpes', 'beefWellington', 'Escalope de Veau', 'Coq au Vin', 'Pissaladière', 'Confit de Canard', 'Tom Yum Soup', 'Pad Thai', 'Green Curry', 'Papaya Salad', 'Massaman Curry', 'Mango Sticky Rice', 'Pad Krapow Moo Saap', 'Pla Rad Prik', 'Tom Kha Gai', 'Larb', 'Khao Soi', 'Nam Prik Pao', 'Yum Talay', 'Guay Tiew', 'Gai Tod', 'Pla Tom Yam', 'Khanom Tuay', 'Taro Balls', 'Kanom Krok', 'Roti Sai Mai', 'Bibimbap', 'Bulgogi', 'Japchae', 'Galbi', 'Samgyetang', 'Mandu', 'Jajangmyeon', 'Haemul Pajeon', 'Kimchi Fried Rice', 'Tteokbokki', 'Seolleongtang', 'Jjigae', 'Gimbap', 'Naengmyeon', 'Soondae', 'Patbingsu', 'Hwaeori-bbang', 'Yakgwa', 'Hotteok', 'Bingsu', 'Souvlaki', 'Dolmades', 'Tzatziki', 'Gyro', 'Spanakopita', 'Greek Salad', 'Fried Calamari', 'Souzoukaklia', 'Baklava', 'Dolmah', 'Kota Riganati', 'Pastitsio', 'Stifado', 'Pilafi', 'Kokoretsi', 'Yemista', 'Galaktoboureko', 'Loukoumades', 'Rizogalo', 'Melomakarona', 'Sushi', 'Ramen', 'Tempura', 'Teriyaki', 'Bento Box', 'Udon', 'Tonkatsu', 'Okonomiyaki', 'Yakitori', 'Shabu-Shabu', 'Takoyaki', 'Sashimi', 'Miso Soup', 'Onigiri', 'Mochi', 'Anmitsu', 'Daifuku', 'Taiyaki', 'Yokan', 'Kasutera', 'Paella', 'Gazpacho', 'Churros con chocolate', 'Tortilla española', 'Patatas bravas', 'Pollo al ajillo', 'Fabada asturiana', 'Lomo embuchado', 'Callos a la madrileña', 'Albóndigas', 'Croquetas', 'Tostadas con tomate y aceite', 'Pimientos de Padrón', 'Empanadas gallegas', 'Chorizo a la sidra', 'Bacalao a la vizcaína', 'Arroz con leche', 'Flan', 'Tarta de Santiago', 'Turrón de Jijona.', 'Doner Kebab', 'Pilaf', 'Adana Kebab', 'Lahmacun', 'Iskender Kebab', 'Manti (Turkish Dumplings)', 'Borek', 'Kofte', 'Pide', 'Kebab', 'Turkish Delight', 'Baklava', 'Sutlac (Rice Pudding)', 'Fasulye (Green Beans Stew)', 'Cacik', 'Dolma (Stuffed Vine Leaves)', 'Tavuk göğsü (chicken Breast Pudding)', 'Ayran', 'Ottoman Pilaf', 'Keskek (Cornmeal and chicken Stew)', 'egg curry ', 'egg fry', 'anda fry', 'egg tikka', 'egg lemon fry', 'egg2', 'egg3', 'egg4', 'egg5', 'egg6', 'egg7']\n"
     ]
    }
   ],
   "source": [
    "list_of_all_dishes = food_data['name'].tolist()\n",
    "print(list_of_all_dishes)"
   ]
  },
  {
   "cell_type": "code",
   "execution_count": 20,
   "id": "3ca6e768",
   "metadata": {},
   "outputs": [
    {
     "data": {
      "text/plain": [
       "251"
      ]
     },
     "execution_count": 20,
     "metadata": {},
     "output_type": "execute_result"
    }
   ],
   "source": [
    "len(list_of_all_dishes)"
   ]
  },
  {
   "cell_type": "code",
   "execution_count": 21,
   "id": "16142c59",
   "metadata": {},
   "outputs": [
    {
     "name": "stdout",
     "output_type": "stream",
     "text": [
      "['Cannoli']\n"
     ]
    }
   ],
   "source": [
    "find_close_match = difflib.get_close_matches(food_name, list_of_all_dishes)\n",
    "print(find_close_match)"
   ]
  },
  {
   "cell_type": "code",
   "execution_count": 22,
   "id": "b8c84444",
   "metadata": {},
   "outputs": [
    {
     "name": "stdout",
     "output_type": "stream",
     "text": [
      "Cannoli\n"
     ]
    }
   ],
   "source": [
    "close_match = find_close_match[0]\n",
    "print(close_match)"
   ]
  },
  {
   "cell_type": "code",
   "execution_count": 23,
   "id": "edaebe5e",
   "metadata": {},
   "outputs": [
    {
     "name": "stdout",
     "output_type": "stream",
     "text": [
      "57\n"
     ]
    }
   ],
   "source": [
    "index_of_the_food = food_data[food_data.name == close_match]['index'].values[0]\n",
    "print(index_of_the_food)"
   ]
  },
  {
   "cell_type": "code",
   "execution_count": 24,
   "id": "3edc10cf",
   "metadata": {},
   "outputs": [
    {
     "name": "stdout",
     "output_type": "stream",
     "text": [
      "[(0, 0.0), (1, 0.0), (2, 0.0), (3, 0.0), (4, 0.0), (5, 0.0), (6, 0.0), (7, 0.0), (8, 0.06822030857671532), (9, 0.0), (10, 0.0), (11, 0.0), (12, 0.0), (13, 0.08678292373666163), (14, 0.06628718629373852), (15, 0.08678292373666163), (16, 0.08678292373666163), (17, 0.08678292373666163), (18, 0.08678292373666163), (19, 0.08678292373666163), (20, 0.0), (21, 0.0), (22, 0.0), (23, 0.0), (24, 0.0), (25, 0.11943867214593157), (26, 0.0), (27, 0.0), (28, 0.0), (29, 0.0), (30, 0.0), (31, 0.0), (32, 0.0), (33, 0.0), (34, 0.057954467209691746), (35, 0.07019859696780936), (36, 0.11078159963762493), (37, 0.15075087453679745), (38, 0.089191285202854), (39, 0.049257290058483144), (40, 0.18610007678110063), (41, 0.18610007678110063), (42, 0.2409855326819371), (43, 0.2409855326819371), (44, 0.18610007678110063), (45, 0.18610007678110063), (46, 0.1951054583142217), (47, 0.32503184912638433), (48, 0.1837726426465522), (49, 0.23599483449345732), (50, 0.20108512547395824), (51, 0.2409855326819371), (52, 0.1837726426465522), (53, 0.23599483449345732), (54, 0.25821877172145236), (55, 0.25114390448716206), (56, 0.32503184912638433), (57, 1.0), (58, 0.32503184912638433), (59, 0.32503184912638433), (60, 0.0), (61, 0.0), (62, 0.0), (63, 0.0), (64, 0.0), (65, 0.0), (66, 0.0), (67, 0.0), (68, 0.0), (69, 0.0), (70, 0.0), (71, 0.0), (72, 0.08847764141902321), (73, 0.08847764141902321), (74, 0.0), (75, 0.0), (76, 0.0), (77, 0.05852865143511799), (78, 0.05293519997996361), (79, 0.060062168456898), (80, 0.0), (81, 0.0), (82, 0.0), (83, 0.05748330224297119), (84, 0.0), (85, 0.0), (86, 0.07594918400187936), (87, 0.0), (88, 0.06519664599322092), (89, 0.06703327274896462), (90, 0.0), (91, 0.0), (92, 0.0), (93, 0.0), (94, 0.0), (95, 0.06519664599322092), (96, 0.056898778369877015), (97, 0.08437786474366975), (98, 0.05504279590674803), (99, 0.08437786474366975), (100, 0.0), (101, 0.0), (102, 0.0), (103, 0.0), (104, 0.0), (105, 0.08464841426033874), (106, 0.06532121078458707), (107, 0.06532121078458707), (108, 0.06848949349563418), (109, 0.08464841426033874), (110, 0.0), (111, 0.0), (112, 0.0), (113, 0.0), (114, 0.08464841426033874), (115, 0.0), (116, 0.0), (117, 0.0), (118, 0.0), (119, 0.0), (120, 0.0), (121, 0.06606076522762253), (122, 0.07047076553308837), (123, 0.0), (124, 0.0), (125, 0.057954467209691746), (126, 0.0), (127, 0.0), (128, 0.0), (129, 0.0), (130, 0.0), (131, 0.0), (132, 0.0), (133, 0.0), (134, 0.0), (135, 0.0), (136, 0.06519664599322092), (137, 0.06519664599322092), (138, 0.06519664599322092), (139, 0.05504279590674803), (140, 0.0), (141, 0.08437786474366975), (142, 0.08437786474366975), (143, 0.08437786474366975), (144, 0.08437786474366975), (145, 0.0), (146, 0.08437786474366975), (147, 0.0), (148, 0.0), (149, 0.0), (150, 0.0), (151, 0.0), (152, 0.08437786474366975), (153, 0.0), (154, 0.0), (155, 0.08437786474366975), (156, 0.06519664599322092), (157, 0.08437786474366975), (158, 0.08437786474366975), (159, 0.08437786474366975), (160, 0.0), (161, 0.0), (162, 0.0), (163, 0.0), (164, 0.0), (165, 0.0), (166, 0.0), (167, 0.0), (168, 0.08847764141902321), (169, 0.0), (170, 0.0), (171, 0.0), (172, 0.0), (173, 0.0), (174, 0.0), (175, 0.0), (176, 0.08437786474366975), (177, 0.08437786474366975), (178, 0.08437786474366975), (179, 0.08437786474366975), (180, 0.0), (181, 0.0), (182, 0.0), (183, 0.08437786474366975), (184, 0.0), (185, 0.0), (186, 0.0), (187, 0.0), (188, 0.0), (189, 0.0), (190, 0.0), (191, 0.0), (192, 0.0), (193, 0.0), (194, 0.08437786474366975), (195, 0.08437786474366975), (196, 0.08437786474366975), (197, 0.08437786474366975), (198, 0.08437786474366975), (199, 0.08437786474366975), (200, 0.0), (201, 0.0), (202, 0.06100095580432099), (203, 0.0), (204, 0.0), (205, 0.0), (206, 0.0), (207, 0.0), (208, 0.0), (209, 0.0), (210, 0.0), (211, 0.0), (212, 0.05897709425086743), (213, 0.06519664599322092), (214, 0.056898778369877015), (215, 0.056898778369877015), (216, 0.060062168456898), (217, 0.08847764141902321), (218, 0.05897709425086743), (219, 0.05897709425086743), (220, 0.0), (221, 0.0), (222, 0.0), (223, 0.0), (224, 0.0), (225, 0.0), (226, 0.08437786474366975), (227, 0.0), (228, 0.0), (229, 0.0), (230, 0.06430085611488456), (231, 0.08847764141902321), (232, 0.0592330837732032), (233, 0.0), (234, 0.0), (235, 0.0), (236, 0.04640435273618244), (237, 0.0), (238, 0.0), (239, 0.0), (240, 0.0), (241, 0.0), (242, 0.0), (243, 0.0), (244, 0.0), (245, 0.0), (246, 0.0), (247, 0.0), (248, 0.0), (249, 0.0), (250, 0.0)]\n"
     ]
    }
   ],
   "source": [
    "similarity_score = list(enumerate(similarity[index_of_the_food]))\n",
    "print(similarity_score)"
   ]
  },
  {
   "cell_type": "code",
   "execution_count": 25,
   "id": "97ab6b20",
   "metadata": {},
   "outputs": [
    {
     "data": {
      "text/plain": [
       "251"
      ]
     },
     "execution_count": 25,
     "metadata": {},
     "output_type": "execute_result"
    }
   ],
   "source": [
    "len(similarity_score)"
   ]
  },
  {
   "cell_type": "code",
   "execution_count": 26,
   "id": "0983d375",
   "metadata": {},
   "outputs": [
    {
     "name": "stdout",
     "output_type": "stream",
     "text": [
      "[(57, 1.0), (47, 0.32503184912638433), (56, 0.32503184912638433), (58, 0.32503184912638433), (59, 0.32503184912638433), (54, 0.25821877172145236), (55, 0.25114390448716206), (42, 0.2409855326819371), (43, 0.2409855326819371), (51, 0.2409855326819371), (49, 0.23599483449345732), (53, 0.23599483449345732), (50, 0.20108512547395824), (46, 0.1951054583142217), (40, 0.18610007678110063), (41, 0.18610007678110063), (44, 0.18610007678110063), (45, 0.18610007678110063), (48, 0.1837726426465522), (52, 0.1837726426465522), (37, 0.15075087453679745), (25, 0.11943867214593157), (36, 0.11078159963762493), (38, 0.089191285202854), (72, 0.08847764141902321), (73, 0.08847764141902321), (168, 0.08847764141902321), (217, 0.08847764141902321), (231, 0.08847764141902321), (13, 0.08678292373666163), (15, 0.08678292373666163), (16, 0.08678292373666163), (17, 0.08678292373666163), (18, 0.08678292373666163), (19, 0.08678292373666163), (105, 0.08464841426033874), (109, 0.08464841426033874), (114, 0.08464841426033874), (97, 0.08437786474366975), (99, 0.08437786474366975), (141, 0.08437786474366975), (142, 0.08437786474366975), (143, 0.08437786474366975), (144, 0.08437786474366975), (146, 0.08437786474366975), (152, 0.08437786474366975), (155, 0.08437786474366975), (157, 0.08437786474366975), (158, 0.08437786474366975), (159, 0.08437786474366975), (176, 0.08437786474366975), (177, 0.08437786474366975), (178, 0.08437786474366975), (179, 0.08437786474366975), (183, 0.08437786474366975), (194, 0.08437786474366975), (195, 0.08437786474366975), (196, 0.08437786474366975), (197, 0.08437786474366975), (198, 0.08437786474366975), (199, 0.08437786474366975), (226, 0.08437786474366975), (86, 0.07594918400187936), (122, 0.07047076553308837), (35, 0.07019859696780936), (108, 0.06848949349563418), (8, 0.06822030857671532), (89, 0.06703327274896462), (14, 0.06628718629373852), (121, 0.06606076522762253), (106, 0.06532121078458707), (107, 0.06532121078458707), (88, 0.06519664599322092), (95, 0.06519664599322092), (136, 0.06519664599322092), (137, 0.06519664599322092), (138, 0.06519664599322092), (156, 0.06519664599322092), (213, 0.06519664599322092), (230, 0.06430085611488456), (202, 0.06100095580432099), (79, 0.060062168456898), (216, 0.060062168456898), (232, 0.0592330837732032), (212, 0.05897709425086743), (218, 0.05897709425086743), (219, 0.05897709425086743), (77, 0.05852865143511799), (34, 0.057954467209691746), (125, 0.057954467209691746), (83, 0.05748330224297119), (96, 0.056898778369877015), (214, 0.056898778369877015), (215, 0.056898778369877015), (98, 0.05504279590674803), (139, 0.05504279590674803), (78, 0.05293519997996361), (39, 0.049257290058483144), (236, 0.04640435273618244), (0, 0.0), (1, 0.0), (2, 0.0), (3, 0.0), (4, 0.0), (5, 0.0), (6, 0.0), (7, 0.0), (9, 0.0), (10, 0.0), (11, 0.0), (12, 0.0), (20, 0.0), (21, 0.0), (22, 0.0), (23, 0.0), (24, 0.0), (26, 0.0), (27, 0.0), (28, 0.0), (29, 0.0), (30, 0.0), (31, 0.0), (32, 0.0), (33, 0.0), (60, 0.0), (61, 0.0), (62, 0.0), (63, 0.0), (64, 0.0), (65, 0.0), (66, 0.0), (67, 0.0), (68, 0.0), (69, 0.0), (70, 0.0), (71, 0.0), (74, 0.0), (75, 0.0), (76, 0.0), (80, 0.0), (81, 0.0), (82, 0.0), (84, 0.0), (85, 0.0), (87, 0.0), (90, 0.0), (91, 0.0), (92, 0.0), (93, 0.0), (94, 0.0), (100, 0.0), (101, 0.0), (102, 0.0), (103, 0.0), (104, 0.0), (110, 0.0), (111, 0.0), (112, 0.0), (113, 0.0), (115, 0.0), (116, 0.0), (117, 0.0), (118, 0.0), (119, 0.0), (120, 0.0), (123, 0.0), (124, 0.0), (126, 0.0), (127, 0.0), (128, 0.0), (129, 0.0), (130, 0.0), (131, 0.0), (132, 0.0), (133, 0.0), (134, 0.0), (135, 0.0), (140, 0.0), (145, 0.0), (147, 0.0), (148, 0.0), (149, 0.0), (150, 0.0), (151, 0.0), (153, 0.0), (154, 0.0), (160, 0.0), (161, 0.0), (162, 0.0), (163, 0.0), (164, 0.0), (165, 0.0), (166, 0.0), (167, 0.0), (169, 0.0), (170, 0.0), (171, 0.0), (172, 0.0), (173, 0.0), (174, 0.0), (175, 0.0), (180, 0.0), (181, 0.0), (182, 0.0), (184, 0.0), (185, 0.0), (186, 0.0), (187, 0.0), (188, 0.0), (189, 0.0), (190, 0.0), (191, 0.0), (192, 0.0), (193, 0.0), (200, 0.0), (201, 0.0), (203, 0.0), (204, 0.0), (205, 0.0), (206, 0.0), (207, 0.0), (208, 0.0), (209, 0.0), (210, 0.0), (211, 0.0), (220, 0.0), (221, 0.0), (222, 0.0), (223, 0.0), (224, 0.0), (225, 0.0), (227, 0.0), (228, 0.0), (229, 0.0), (233, 0.0), (234, 0.0), (235, 0.0), (237, 0.0), (238, 0.0), (239, 0.0), (240, 0.0), (241, 0.0), (242, 0.0), (243, 0.0), (244, 0.0), (245, 0.0), (246, 0.0), (247, 0.0), (248, 0.0), (249, 0.0), (250, 0.0)]\n"
     ]
    }
   ],
   "source": [
    "sorted_similar_food = sorted(similarity_score, key = lambda x:x[1], reverse = True)\n",
    "print(sorted_similar_food)"
   ]
  },
  {
   "cell_type": "code",
   "execution_count": 28,
   "id": "407fb60d",
   "metadata": {},
   "outputs": [
    {
     "name": "stdout",
     "output_type": "stream",
     "text": [
      "Food suggested for you : \n",
      "\n",
      "1 . Biscotti\n",
      "2 . Gnocchi\n",
      "3 . Cannoli\n",
      "4 . Gelato\n",
      "5 . Zabaglione\n"
     ]
    }
   ],
   "source": [
    "print('Food suggested for you : \\n')\n",
    "i = 1\n",
    "for food in sorted_similar_food:\n",
    "  index = food[0]\n",
    "  name_from_index = food_data[food_data.index==index]['name'].values[0]\n",
    "  if (i<6):\n",
    "    print(i, '.',name_from_index)\n",
    "    i+=1"
   ]
  },
  {
   "cell_type": "code",
   "execution_count": 29,
   "id": "8dfbbefe",
   "metadata": {},
   "outputs": [
    {
     "name": "stdout",
     "output_type": "stream",
     "text": [
      " Enter your favourite food name : cannoli\n",
      "food suggested for you : \n",
      "\n",
      "1 . Biscotti\n",
      "2 . Gnocchi\n",
      "3 . Cannoli\n",
      "4 . Gelato\n",
      "5 . Zabaglione\n"
     ]
    }
   ],
   "source": [
    "food_name = input(' Enter your favourite food name : ')\n",
    "\n",
    "list_of_all_dishes = food_data['name'].tolist()\n",
    "\n",
    "find_close_match = difflib.get_close_matches(food_name, list_of_all_dishes)\n",
    "\n",
    "close_match = find_close_match[0]\n",
    "\n",
    "index_of_the_food = food_data[food_data.name == close_match]['index'].values[0]\n",
    "\n",
    "similarity_score = list(enumerate(similarity[index_of_the_food]))\n",
    "\n",
    "sorted_similar_food = sorted(similarity_score, key = lambda x:x[1], reverse = True) \n",
    "\n",
    "print('food suggested for you : \\n')\n",
    "\n",
    "i = 1\n",
    "\n",
    "for food in sorted_similar_food:\n",
    "  index = food[0]\n",
    "  name_from_index = food_data[food_data.index==index]['name'].values[0]\n",
    "  if (i<6):\n",
    "    print(i, '.',name_from_index)\n",
    "    i+=1"
   ]
  },
  {
   "cell_type": "code",
   "execution_count": 26,
   "id": "18fd8395",
   "metadata": {},
   "outputs": [],
   "source": [
    "import pandas as pd\n",
    "import tkinter as tk\n",
    "from tkinter import ttk\n",
    "import difflib\n",
    "\n",
    "# read in the data from CSV file\n",
    "food_data = pd.read_csv(\"/Users/samruddhikale/Downloads/cravings org/food_org.csv\")\n",
    "\n",
    "# create the main GUI window\n",
    "root = tk.Tk()\n",
    "root.title(\"Food Recommendation System\")\n",
    "\n",
    "# create the label and entry widget for user input\n",
    "input_label = ttk.Label(root, text=\"Enter your favorite food name:\")\n",
    "input_label.pack()\n",
    "input_entry = ttk.Entry(root)\n",
    "input_entry.pack()\n",
    "\n",
    "# create a function to recommend similar foods based on user input\n",
    "def recommend_food():\n",
    "    # get user input\n",
    "    food_name = input_entry.get()\n",
    "\n",
    "    # find the closest match in the food data\n",
    "    list_of_all_dishes = food_data['name'].tolist()\n",
    "    find_close_match = difflib.get_close_matches(food_name, list_of_all_dishes)\n",
    "    close_match = find_close_match[0]\n",
    "\n",
    "    # find the index of the food in the data\n",
    "    index_of_the_food = food_data[food_data.name == close_match]['index'].values[0]\n",
    "\n",
    "    # calculate the similarity scores for all foods\n",
    "    similarity_score = list(enumerate(similarity[index_of_the_food]))\n",
    "\n",
    "    # sort the foods by similarity score\n",
    "    sorted_similar_food = sorted(similarity_score, key = lambda x:x[1], reverse = True) \n",
    "\n",
    "    # display the top 5 recommended foods in a label\n",
    "    result_label.config(text=\"Food suggested for you:\")\n",
    "    i = 1\n",
    "    for food in sorted_similar_food:\n",
    "        index = food[0]\n",
    "        name_from_index = food_data[food_data.index==index]['name'].values[0]\n",
    "        if (i<6):\n",
    "            result_label.config(text=result_label.cget(\"text\") + f\"\\n{i}. {name_from_index}\")\n",
    "            i+=1\n",
    "\n",
    "# create the recommend button\n",
    "recommend_button = ttk.Button(root, text=\"Recommend Food\", command=recommend_food)\n",
    "recommend_button.pack()\n",
    "\n",
    "# create a label for displaying the recommendation result\n",
    "result_label = ttk.Label(root, text=\"\")\n",
    "result_label.pack()\n",
    "\n",
    "# run the GUI mainloop\n",
    "root.mainloop()"
   ]
  },
  {
   "cell_type": "code",
   "execution_count": 30,
   "id": "03c7e654",
   "metadata": {},
   "outputs": [
    {
     "name": "stderr",
     "output_type": "stream",
     "text": [
      "Exception in Tkinter callback\n",
      "Traceback (most recent call last):\n",
      "  File \"/Users/samruddhikale/anaconda3/lib/python3.10/tkinter/__init__.py\", line 1921, in __call__\n",
      "    return self.func(*args)\n",
      "  File \"/var/folders/bm/pv51_gj91jvdykfwty90ptrw0000gn/T/ipykernel_8437/3043197231.py\", line 53, in recommend_dishes\n",
      "    recommended_dishes = filtered_data.sample(n=3)[\"name\"].values\n",
      "  File \"/Users/samruddhikale/anaconda3/lib/python3.10/site-packages/pandas/core/generic.py\", line 5773, in sample\n",
      "    sampled_indices = sample.sample(obj_len, size, replace, weights, rs)\n",
      "  File \"/Users/samruddhikale/anaconda3/lib/python3.10/site-packages/pandas/core/sample.py\", line 150, in sample\n",
      "    return random_state.choice(obj_len, size=size, replace=replace, p=weights).astype(\n",
      "  File \"mtrand.pyx\", line 965, in numpy.random.mtrand.RandomState.choice\n",
      "ValueError: Cannot take a larger sample than population when 'replace=False'\n",
      "Exception in Tkinter callback\n",
      "Traceback (most recent call last):\n",
      "  File \"/Users/samruddhikale/anaconda3/lib/python3.10/tkinter/__init__.py\", line 1921, in __call__\n",
      "    return self.func(*args)\n",
      "  File \"/var/folders/bm/pv51_gj91jvdykfwty90ptrw0000gn/T/ipykernel_8437/3043197231.py\", line 53, in recommend_dishes\n",
      "    recommended_dishes = filtered_data.sample(n=3)[\"name\"].values\n",
      "  File \"/Users/samruddhikale/anaconda3/lib/python3.10/site-packages/pandas/core/generic.py\", line 5773, in sample\n",
      "    sampled_indices = sample.sample(obj_len, size, replace, weights, rs)\n",
      "  File \"/Users/samruddhikale/anaconda3/lib/python3.10/site-packages/pandas/core/sample.py\", line 150, in sample\n",
      "    return random_state.choice(obj_len, size=size, replace=replace, p=weights).astype(\n",
      "  File \"mtrand.pyx\", line 965, in numpy.random.mtrand.RandomState.choice\n",
      "ValueError: Cannot take a larger sample than population when 'replace=False'\n",
      "Exception in Tkinter callback\n",
      "Traceback (most recent call last):\n",
      "  File \"/Users/samruddhikale/anaconda3/lib/python3.10/tkinter/__init__.py\", line 1921, in __call__\n",
      "    return self.func(*args)\n",
      "  File \"/var/folders/bm/pv51_gj91jvdykfwty90ptrw0000gn/T/ipykernel_8437/3043197231.py\", line 53, in recommend_dishes\n",
      "    recommended_dishes = filtered_data.sample(n=3)[\"name\"].values\n",
      "  File \"/Users/samruddhikale/anaconda3/lib/python3.10/site-packages/pandas/core/generic.py\", line 5773, in sample\n",
      "    sampled_indices = sample.sample(obj_len, size, replace, weights, rs)\n",
      "  File \"/Users/samruddhikale/anaconda3/lib/python3.10/site-packages/pandas/core/sample.py\", line 150, in sample\n",
      "    return random_state.choice(obj_len, size=size, replace=replace, p=weights).astype(\n",
      "  File \"mtrand.pyx\", line 965, in numpy.random.mtrand.RandomState.choice\n",
      "ValueError: Cannot take a larger sample than population when 'replace=False'\n"
     ]
    }
   ],
   "source": [
    "import pandas as pd\n",
    "import tkinter as tk\n",
    "from tkinter import ttk\n",
    "\n",
    "# read in the data from CSV file\n",
    "food_data = pd.read_csv(\"/Users/samruddhikale/Downloads/cravings org/food_org.csv\")\n",
    "\n",
    "# create the main GUI window\n",
    "root = tk.Tk()\n",
    "root.title(\"Food Recommendation System\")\n",
    "root.geometry(\"600x400\")\n",
    "# create the labels and dropdown menus for cuisine, taste, dietary restrictions, and type of meat\n",
    "cuisine_label = ttk.Label(root, text=\"Select Cuisine:\")\n",
    "cuisine_label.pack()\n",
    "cuisine_options = list(food_data[\"cuisine\"].unique())\n",
    "cuisine_dropdown = ttk.Combobox(root, values=cuisine_options)\n",
    "cuisine_dropdown.pack()\n",
    "\n",
    "taste_label = ttk.Label(root, text=\"Select Taste:\")\n",
    "taste_label.pack()\n",
    "taste_options = list(food_data[\"taste\"].unique())\n",
    "taste_dropdown = ttk.Combobox(root, values=taste_options)\n",
    "taste_dropdown.pack()\n",
    "\n",
    "diet_label = ttk.Label(root, text=\"Select Dietary Restrictions:\")\n",
    "diet_label.pack()\n",
    "diet_options = list(food_data[\"dietary_restrictions\"].unique())\n",
    "diet_dropdown = ttk.Combobox(root, values=diet_options)\n",
    "diet_dropdown.pack()\n",
    "\n",
    "meat_label = ttk.Label(root, text=\"Select Type of Meat:\")\n",
    "meat_label.pack()\n",
    "meat_options = list(food_data[\"meat\"].unique())\n",
    "meat_dropdown = ttk.Combobox(root, values=meat_options)\n",
    "meat_dropdown.pack()\n",
    "\n",
    "# create a function to recommend dishes based on user selections\n",
    "def recommend_dishes():\n",
    "    # get user selections\n",
    "    cuisine = cuisine_dropdown.get()\n",
    "    taste = taste_dropdown.get()\n",
    "    diet = diet_dropdown.get()\n",
    "    meat = meat_dropdown.get()\n",
    "\n",
    "    # filter the data based on user selections\n",
    "    filtered_data = food_data.loc[(food_data[\"cuisine\"] == cuisine) & (food_data[\"taste\"] == taste) & (food_data[\"dietary_restrictions\"] == diet) & (food_data[\"meat\"] == meat)]\n",
    "\n",
    "    # check if any dishes were recommended\n",
    "    if len(filtered_data) == 0:\n",
    "        result_label.config(text=\"No dishes found for your selections.\")\n",
    "    else:\n",
    "        # select 3 recommended dishes\n",
    "        recommended_dishes = filtered_data.sample(n=3)[\"name\"].values\n",
    "        result_label.config(text=f\"We recommend trying: {', '.join(recommended_dishes)}\")\n",
    "\n",
    "# create the recommend button\n",
    "recommend_button = ttk.Button(root, text=\"Recommend Dishes\", command=recommend_dishes)\n",
    "recommend_button.pack()\n",
    "\n",
    "# create a label for displaying the recommendation result\n",
    "result_label = ttk.Label(root, text=\"\")\n",
    "result_label.pack()\n",
    "\n",
    "# run the GUI mainloop\n",
    "root.mainloop()"
   ]
  },
  {
   "cell_type": "code",
   "execution_count": 35,
   "id": "be2c2f00",
   "metadata": {},
   "outputs": [
    {
     "name": "stderr",
     "output_type": "stream",
     "text": [
      "Exception in Tkinter callback\n",
      "Traceback (most recent call last):\n",
      "  File \"/Users/samruddhikale/anaconda3/lib/python3.10/tkinter/__init__.py\", line 1921, in __call__\n",
      "    return self.func(*args)\n",
      "  File \"/var/folders/bm/pv51_gj91jvdykfwty90ptrw0000gn/T/ipykernel_8437/2588887805.py\", line 59, in recommend_dishes\n",
      "    recommended_dishes = filtered_data.sample(n=3)[\"name\"].values\n",
      "  File \"/Users/samruddhikale/anaconda3/lib/python3.10/site-packages/pandas/core/generic.py\", line 5773, in sample\n",
      "    sampled_indices = sample.sample(obj_len, size, replace, weights, rs)\n",
      "  File \"/Users/samruddhikale/anaconda3/lib/python3.10/site-packages/pandas/core/sample.py\", line 150, in sample\n",
      "    return random_state.choice(obj_len, size=size, replace=replace, p=weights).astype(\n",
      "  File \"mtrand.pyx\", line 965, in numpy.random.mtrand.RandomState.choice\n",
      "ValueError: Cannot take a larger sample than population when 'replace=False'\n",
      "Exception in Tkinter callback\n",
      "Traceback (most recent call last):\n",
      "  File \"/Users/samruddhikale/anaconda3/lib/python3.10/tkinter/__init__.py\", line 1921, in __call__\n",
      "    return self.func(*args)\n",
      "  File \"/var/folders/bm/pv51_gj91jvdykfwty90ptrw0000gn/T/ipykernel_8437/2588887805.py\", line 59, in recommend_dishes\n",
      "    recommended_dishes = filtered_data.sample(n=3)[\"name\"].values\n",
      "  File \"/Users/samruddhikale/anaconda3/lib/python3.10/site-packages/pandas/core/generic.py\", line 5773, in sample\n",
      "    sampled_indices = sample.sample(obj_len, size, replace, weights, rs)\n",
      "  File \"/Users/samruddhikale/anaconda3/lib/python3.10/site-packages/pandas/core/sample.py\", line 150, in sample\n",
      "    return random_state.choice(obj_len, size=size, replace=replace, p=weights).astype(\n",
      "  File \"mtrand.pyx\", line 965, in numpy.random.mtrand.RandomState.choice\n",
      "ValueError: Cannot take a larger sample than population when 'replace=False'\n"
     ]
    }
   ],
   "source": [
    "import pandas as pd\n",
    "import tkinter as tk\n",
    "from tkinter import ttk\n",
    "\n",
    "# read in the data from CSV file\n",
    "food_data = pd.read_csv(\"/Users/samruddhikale/Downloads/cravings org/food_org.csv\")\n",
    "\n",
    "# create the main GUI window\n",
    "root = tk.Tk()\n",
    "root.title(\"Food Recommendation System\")\n",
    "root.geometry(\"600x400\")  # Set the dimensions to 600 pixels wide and 400 pixels high\n",
    "\n",
    "# Create a custom style for the labels and dropdown menus\n",
    "style = ttk.Style()\n",
    "style.configure(\"Custom.TLabel\", font=(\"Helvetica\", 12))  # Increase the font size for labels\n",
    "style.configure(\"Custom.TCombobox\", font=(\"Helvetica\", 12), height=10)  # Increase the font size and dropdown height\n",
    "\n",
    "# create the labels and dropdown menus for cuisine, taste, dietary restrictions, and type of meat\n",
    "cuisine_label = ttk.Label(root, text=\"Select Cuisine:\", style=\"Custom.TLabel\")\n",
    "cuisine_label.pack()\n",
    "cuisine_options = list(food_data[\"cuisine\"].unique())\n",
    "cuisine_dropdown = ttk.Combobox(root, values=cuisine_options, style=\"Custom.TCombobox\")\n",
    "cuisine_dropdown.pack()\n",
    "\n",
    "taste_label = ttk.Label(root, text=\"Select Taste:\", style=\"Custom.TLabel\")\n",
    "taste_label.pack()\n",
    "taste_options = list(food_data[\"taste\"].unique())\n",
    "taste_dropdown = ttk.Combobox(root, values=taste_options, style=\"Custom.TCombobox\")\n",
    "taste_dropdown.pack()\n",
    "\n",
    "diet_label = ttk.Label(root, text=\"Select Dietary Restrictions:\", style=\"Custom.TLabel\")\n",
    "diet_label.pack()\n",
    "diet_options = list(food_data[\"dietary_restrictions\"].unique())\n",
    "diet_dropdown = ttk.Combobox(root, values=diet_options, style=\"Custom.TCombobox\")\n",
    "diet_dropdown.pack()\n",
    "\n",
    "meat_label = ttk.Label(root, text=\"Select Type of Meat:\", style=\"Custom.TLabel\")\n",
    "meat_label.pack()\n",
    "meat_options = list(food_data[\"meat\"].unique())\n",
    "meat_dropdown = ttk.Combobox(root, values=meat_options, style=\"Custom.TCombobox\")\n",
    "meat_dropdown.pack()\n",
    "\n",
    "# create a function to recommend dishes based on user selections\n",
    "def recommend_dishes():\n",
    "    # get user selections\n",
    "    cuisine = cuisine_dropdown.get()\n",
    "    taste = taste_dropdown.get()\n",
    "    diet = diet_dropdown.get()\n",
    "    meat = meat_dropdown.get()\n",
    "\n",
    "    # filter the data based on user selections\n",
    "    filtered_data = food_data.loc[(food_data[\"cuisine\"] == cuisine) & (food_data[\"taste\"] == taste) & (food_data[\"dietary_restrictions\"] == diet) & (food_data[\"meat\"] == meat)]\n",
    "\n",
    "    # check if any dishes were recommended\n",
    "    if len(filtered_data) == 0:\n",
    "        result_label.config(text=\"No dishes found for your selections.\")\n",
    "    else:\n",
    "        # select 3 recommended dishes\n",
    "        recommended_dishes = filtered_data.sample(n=3)[\"name\"].values\n",
    "        result_label.config(text=f\"We recommend trying: {', '.join(recommended_dishes)}\")\n",
    "\n",
    "# create the recommend button\n",
    "recommend_button = ttk.Button(root, text=\"Recommend Dishes\", command=recommend_dishes)\n",
    "recommend_button.pack()\n",
    "\n",
    "# create a label for displaying the recommendation result\n",
    "result_label = ttk.Label(root, text=\"\")\n",
    "result_label.pack()\n",
    "\n",
    "# run the GUI mainloop\n",
    "root.mainloop()"
   ]
  },
  {
   "cell_type": "code",
   "execution_count": null,
   "id": "e502f63c",
   "metadata": {},
   "outputs": [],
   "source": []
  },
  {
   "cell_type": "code",
   "execution_count": null,
   "id": "89f0fc5e",
   "metadata": {},
   "outputs": [],
   "source": []
  },
  {
   "cell_type": "code",
   "execution_count": null,
   "id": "abdaf9c1",
   "metadata": {},
   "outputs": [],
   "source": []
  },
  {
   "cell_type": "code",
   "execution_count": null,
   "id": "d86834a5",
   "metadata": {},
   "outputs": [],
   "source": []
  }
 ],
 "metadata": {
  "kernelspec": {
   "display_name": "Python 3 (ipykernel)",
   "language": "python",
   "name": "python3"
  },
  "language_info": {
   "codemirror_mode": {
    "name": "ipython",
    "version": 3
   },
   "file_extension": ".py",
   "mimetype": "text/x-python",
   "name": "python",
   "nbconvert_exporter": "python",
   "pygments_lexer": "ipython3",
   "version": "3.10.9"
  }
 },
 "nbformat": 4,
 "nbformat_minor": 5
}
